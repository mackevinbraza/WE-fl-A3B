## Step-by-step setting up of WESTPA in Delta


